{
 "cells": [
  {
   "cell_type": "code",
   "execution_count": 1,
   "metadata": {},
   "outputs": [],
   "source": [
    "import os\n",
    "import pyttsx3"
   ]
  },
  {
   "cell_type": "code",
   "execution_count": 2,
   "metadata": {},
   "outputs": [
    {
     "name": "stdout",
     "output_type": "stream",
     "text": [
      "Welcome to my tools\n",
      "   \n",
      "chrome\n",
      "notepad\n",
      "wmplayer\n",
      "Control Panel\n",
      "excel\n",
      "shut down\n",
      "   \n",
      "Hello! How can I help you\n"
     ]
    }
   ],
   "source": [
    "print(\"Welcome to my tools\")\n",
    "pyttsx3.speak(\"Welcome to my tools\")\n",
    "\n",
    "print(\"   \")\n",
    "print(\"chrome\")\n",
    "print(\"notepad\")\n",
    "print(\"wmplayer\")\n",
    "print(\"Control Panel\")\n",
    "print(\"excel\")\n",
    "print(\"shut down\")\n",
    "print(\"   \")\n",
    "\n",
    "\n",
    "print(\"Hello! How can I help you\")\n",
    "pyttsx3.speak(\"Hello! How can I help you\")\n"
   ]
  },
  {
   "cell_type": "code",
   "execution_count": 3,
   "metadata": {},
   "outputs": [
    {
     "name": "stdout",
     "output_type": "stream",
     "text": [
      "what do you want to open : please open chrome\n",
      "what do you want to open : run notepad\n",
      "what do you want to open : dont open notepad\n",
      "********dont support********\n",
      "what do you want to open : please open control panel\n",
      "what do you want to open : not open control panel\n",
      "********dont support********\n",
      "what do you want to open : open cmd\n",
      "********dont support********\n",
      "what do you want to open : quit\n"
     ]
    }
   ],
   "source": [
    "while True:\n",
    "    pyttsx3.speak(\"what do you want to open\")\n",
    "    print(\"what do you want to open : \",end=\"\")\n",
    "    p=input()\n",
    "    \n",
    "    if ((\"run\" in p) or (\"open\" in p) or (\"lunch\" in p) or (\"execute\" in p)) and ((\"chrome\" in p) or (\"google chrome\" in p)) and (\"not\" not in p)and (\"never\" not in p) and (\"dont\"not in p) and (\"does not\" not in p) and (\"don't\" not in p):\n",
    "        pyttsx3.speak(\"opening chrome\")\n",
    "        os.system(\"chrome\")\n",
    "             \n",
    "        \n",
    "    elif ((\"open\" in p) or (\"lunch\" in p) or (\"run\" in p) or (\"execute\" in p)) and (\"notepad\" in p)  and (\"dont\" not in p) and (\"never\" not in p) and (\"not\" in p)  and (\"does not\" not in p) and (\"don't\" not in p):\n",
    "        pyttsx3.speak(\"opening notepad\")\n",
    "        os.system(\"notepad\")\n",
    "        \n",
    "    \n",
    "    elif ((\"open\" in p) or (\"run\" in p) or (\"execute\" in p)) and ((\"wmplayer\" in p) or (\"window media player\" in p)) and (\"never\" not in p) and (\"dont\" not in p) and (\"not\" not in p)  and (\"does not\" not in p) and (\"don't\" not in p):\n",
    "        pyttsx3.speak(\"opening window media player\")\n",
    "        os.system(\"wmplayer\")\n",
    "        \n",
    "   \n",
    "    elif ((\"open\" in p) or (\"run\" in p) or (\"execute\" in p))  and (\"control panel\" in p) and (\"not\" not in p) and (\"dont\" not in p) and (\"never\" not in p)  and (\"does not\" not in p) and (\"don't\" not in p):\n",
    "        pyttsx3.speak(\"opening control panel\")\n",
    "        os.system(\"control panel\")\n",
    "        \n",
    "    elif ((\"open\" in p) or (\"run\" in p) or (\"lunch\" in p) or (\"execute\" in p)) and (\"excel\" in p) and (\"never\" not in p) and (\"dont\" not in p) and (\"not\" not in p)  and (\"does not\" not in p) and (\"don't\" not in p):\n",
    "        pyttsx3.speak(\"opening excel\")\n",
    "        os.system(\"excel\")\n",
    "        \n",
    "        \n",
    "    elif (\"shutdown\" in p) and (\"not\" not in p) and (\"dont\" not in p) and (\"never\" not in p)  and (\"does not\" not in p) and (\"don't\" not in p):\n",
    "        pyttsx3.speak(\"shutdown system\")\n",
    "        os.system(\"shutdown /s /t 1\")\n",
    "        \n",
    "    elif (\"exit\" in p) or (\"quit\" in p) or (\"close\" in p):\n",
    "        pyttsx3.speak(\"Thank you for using my tools....!!Have a nice Day\")\n",
    "        break  \n",
    "   \n",
    "    else:\n",
    "        print(\"********dont support********\")\n",
    "        pyttsx3.speak(\"dont support\")"
   ]
  }
 ],
 "metadata": {
  "kernelspec": {
   "display_name": "Python 3",
   "language": "python",
   "name": "python3"
  },
  "language_info": {
   "codemirror_mode": {
    "name": "ipython",
    "version": 3
   },
   "file_extension": ".py",
   "mimetype": "text/x-python",
   "name": "python",
   "nbconvert_exporter": "python",
   "pygments_lexer": "ipython3",
   "version": "3.8.2"
  }
 },
 "nbformat": 4,
 "nbformat_minor": 4
}
